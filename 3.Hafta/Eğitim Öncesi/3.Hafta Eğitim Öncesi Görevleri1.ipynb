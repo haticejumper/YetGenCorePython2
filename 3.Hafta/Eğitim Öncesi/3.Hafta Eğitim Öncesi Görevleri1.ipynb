{
  "cells": [
    {
      "cell_type": "markdown",
      "metadata": {
        "id": "tsD4YVAe_Te2"
      },
      "source": [
        "# Problem 1\n",
        "Bir sayının 7'ye bölünebilir olup olmadığını kontrol etmek \n",
        "için bir program yazın.\n",
        "\n",
        "İpucu: Mod operatörünü (%) kullanabilirsiniz."
      ]
    },
    {
      "cell_type": "code",
      "execution_count": 6,
      "metadata": {
        "id": "NGjvNwKx_Te7"
      },
      "outputs": [
        {
          "name": "stdout",
          "output_type": "stream",
          "text": [
            "sayi yedinim kati değil\n"
          ]
        }
      ],
      "source": [
        "sayi =int(input(\"bir sayi giriniz : \"))\n",
        "\n",
        "if sayi%7 == 0:\n",
        "    print(f\"{sayi} 7'ye tam bölünür\")\n",
        "else:\n",
        "    print(\"sayi yedinim kati değil\")"
      ]
    },
    {
      "cell_type": "markdown",
      "metadata": {
        "id": "Kg3qiBAI_Te8"
      },
      "source": [
        "# Problem 2\n",
        "Kullanıcıdan vize ve final notu isteyin. Girilen vize notunun %40’ı ve \n",
        "girilen finalnotunun ise %60’ı alınarak yıl sonu not ortalaması hesaplanacaktır. \n",
        "\n",
        "Bu not ortalaması eğer 85 ve üzeri ise AA, \n",
        "\n",
        "75 ve 85 arasında ise BA, \n",
        "\n",
        "70 ve 75 arasında ise BB, \n",
        "\n",
        "65 ve 70 arasında ise CB,\n",
        "\n",
        "60 ve 65 arasında ise CC,\n",
        "\n",
        "55 ve 60 arasında ise DC,\n",
        "\n",
        "50 ve 55 arasında ise DD olarak hesaplanacaktır. \n",
        "\n",
        "Bu öğrencinin yıl sonu toplam notu 50’nin altında ise FF ile dersten kalacaktır. \n",
        "\n",
        "Ayrıca öğrencinin final notu 50’nin altında ise direkt FF ile kalacaktır."
      ]
    },
    {
      "cell_type": "code",
      "execution_count": 7,
      "metadata": {
        "id": "MXTtCxI1_Te8"
      },
      "outputs": [
        {
          "name": "stdout",
          "output_type": "stream",
          "text": [
            "fianalde barajı geçemediniz\n"
          ]
        }
      ],
      "source": [
        "vize = float(input( \"Vize notunuzu giriniz : \"))\n",
        "final = float(input( \"Final notunuzu giriniz :\"))\n",
        "\n",
        "ortalama = (vize*0.4) + (final*0.6)\n",
        "if final< 50:\n",
        "    print(\"fianalde barajı geçemediniz ve dersten kaldınız.\")\n",
        "elif ortalama > 85:\n",
        "    print(\"AA\")\n",
        "elif 75< ortalama< 85 :\n",
        "    print(\"BA\")\n",
        "elif 70<ortalama<75:\n",
        "    print(\"BB\")\n",
        "elif 65<ortalama<70:\n",
        "    print(\"CB\")\n",
        "elif 60<ortalama<65:\n",
        "    print(\"CC\")\n",
        "elif 55< ortalama< 60:\n",
        "    print(\"DC\")\n",
        "elif 50< ortalama <55 :\n",
        "    print(\"DD\") \n",
        "else:\n",
        "    print(\"desten kaldınız.\")\n",
        "\n",
        "   \n",
        "\n",
        "\n"
      ]
    },
    {
      "cell_type": "markdown",
      "metadata": {
        "id": "tAoRYCTC_Te8"
      },
      "source": [
        "# Problem 3\n",
        "İki YetGenli Zirve'de karşılaşıyorlar. Birbirlerini tanımak için sorular soruyorlar. Birbirlerine yaşlarını soruyorlar. Akıllarına bir Python programı yazıp, yaşlarını ve isimlerini giriyorlar. Büyük olanın yaşını ekrana yazdıran programı yazıyorlar. Sende bu iki YetGenli'ye destek olmak ister misin?\n",
        "\n",
        "```\n",
        "Birinci YetGenlinin ismi: Ahmet\n",
        "Birinci YetGenlinin yaşı : 20\n",
        "İkinci YetGenlinin ismi: Mehmet\n",
        "İkinci YetGenlinin yaşı : 25\n",
        "Mehmet'in yaşı daha büyük ve yaşı 25'tir.\n",
        "```"
      ]
    },
    {
      "cell_type": "code",
      "execution_count": 7,
      "metadata": {
        "id": "bPjE8W0i_Te8"
      },
      "outputs": [
        {
          "name": "stdout",
          "output_type": "stream",
          "text": [
            "necati, hatice'den büyüktür ve 24 yaşındadır. Hatice de, 21 yaşındadır.\n"
          ]
        }
      ],
      "source": [
        "hatice = int(input(\"yaşınızi giriniz :\"))\n",
        "necati = int(input(\"yaşınızı giriniz :\"))\n",
        "\n",
        "if hatice> necati: \n",
        "    print(\"hatice, necati'den büyüktür ve\", hatice, \"yaşındanır. Necati de\" , necati, \"yaşındadır.\") \n",
        "else :\n",
        "     print(\"necati, hatice'den büyüktür ve\", necati,\"yaşındadır. Hatice de,\", hatice, \"yaşındadır.\")"
      ]
    },
    {
      "cell_type": "markdown",
      "metadata": {
        "id": "zBVv8Tyg_Te9"
      },
      "source": [
        "# Problem 4\n",
        "Pandemi döneminde AVM'lerde ateş ölçümü yapılıyor. AVM'ye giren kişinin ateş ölçümü 37.5 derecenin altında ise girişe izin veriliyor. 37.5 derecenin üstünde ise girişe izin verilmiyor. AVM'ye girişe izin verilip verilmediğini ekrana yazdıran bir program yazın.\n",
        "\n",
        "Program sonunda şöyle bir çıktı elde etmelisiniz:\n",
        "\n",
        "```\n",
        "Ateşiniz 37.5 derece. AVM'ye girebilirsin! Maske takmayı unutma!\n",
        "Ateşiniz 37.6 derece. AVM'ye giremezsin! Hemen evine dön!\n",
        "```"
      ]
    },
    {
      "cell_type": "code",
      "execution_count": 11,
      "metadata": {
        "id": "TSAXs8et_Te9"
      },
      "outputs": [
        {
          "name": "stdout",
          "output_type": "stream",
          "text": [
            "Ateşiniz 37.6 dereeceç AVM'ye giremezsiniz! Hemen evinize dönnün! \n"
          ]
        }
      ],
      "source": [
        "ates= float(input(\"ateşi kaç derecedeir? : \"))\n",
        " \n",
        "if ates< 37.5:\n",
        "    print(\"Ateşiniz {} derece. AVM'ye girebilirsiniz! Maske takmayı unutmayınız!\".format(ates))\n",
        "else :\n",
        "    print(\"Ateşiniz {} derece. AVM'ye giremezsiniz! Hemen evinize dönnün! \". format(ates))\n",
        " \n",
        "   "
      ]
    },
    {
      "cell_type": "markdown",
      "metadata": {
        "id": "6AEkZrDt_Te9"
      },
      "source": [
        "# Problem 5\n",
        "YetGen bir spor kulübüyle sponsorluk anlaşması yapıyor. Kulüp, sponsorluk anlaşmasına göre her YetGen liderinin beden kitle indeksini hesaplamak istiyor. Spor kulübü, beden kitle indeksini hesaplamak için YetGen Jump Python liderlerinden Berkcan ve Ahmet'i arıyor. Berkcan ve Ahmet, kulübe yardımcı olmak için bir Python programı yazıyorlar. Sende bu iki YetGen liderine destek olmak ister misin?\n",
        "\n",
        "Kullanıcıdan alınan boy ve kilo değerlerine göre beden kitle indeksini hesaplayın ve şu kurallara göre ekrana şu yazıları yazdırın.\n",
        "\n",
        "\n",
        "Beden Kitle İndeksi, kişinin ağırlığının (kg olarak) boyunun karesine (m olarak) bölünmesiyle hesaplanır.\n",
        "\n",
        "\n",
        "```\n",
        " BKİ 18.5'un altındaysa -------> Zayıf\n",
        "\n",
        " BKİ 18.5 ile 25 arasındaysa ------> Normal\n",
        "\n",
        " BKİ 25 ile 30 arasındaysa --------> Fazla Kilolu\n",
        "\n",
        " BKİ 30'un üstündeyse -------------> Obez\n",
        "```\n",
        "\n"
      ]
    },
    {
      "cell_type": "code",
      "execution_count": 16,
      "metadata": {
        "id": "t-XPI_u0_Te-"
      },
      "outputs": [
        {
          "name": "stdout",
          "output_type": "stream",
          "text": [
            "Beden kitle indeksiniz 0.0034602076124567475. Zayıfsınız.\n"
          ]
        }
      ],
      "source": [
        "boy = float(input(\"Lütfen boyunuzu giriniz :\"))\n",
        "kilo = float(input(\"Lütfen boyunuzu giriniz :\"))\n",
        " \n",
        "BKI =  kilo/(boy**2)\n",
        "\n",
        "if BKI< 18.5 :\n",
        "    print(f\"Beden kitle indeksiniz {BKI}. Zayıfsınız.\")\n",
        "elif 18.5 < BKI < 25:\n",
        "    print(f\"Beden kitle indeksiniz {BKI}. Normalsiniz.\")\n",
        "elif 25< BKI < 30 :\n",
        "    print(f\"Beden kitle indeksiniz {BKI}. Fazla kilolarınız var.\")\n",
        "else:\n",
        "    print(f\"Beden kitle indeksiniz {BKI}. Obez.\")\n"
      ]
    },
    {
      "cell_type": "markdown",
      "metadata": {
        "id": "oFsvQyaO_Te-"
      },
      "source": [
        "# Problem 6\n",
        "Kullanıcıdan isim, yaş ve eğitim bilgilerini isteyip ehliyet alabilme  durumunu kontrol ediniz. \n",
        "\n",
        "Ehliyet alma koşulu en az 18 yaşında ve eğitim durumu lise ya da üniversite olmalıdır. "
      ]
    },
    {
      "cell_type": "code",
      "execution_count": 16,
      "metadata": {
        "id": "Tu2mcgco_Te-"
      },
      "outputs": [
        {
          "name": "stdout",
          "output_type": "stream",
          "text": [
            "ehliyet alabilirsiniz.\n",
            "adınız hatice yasiniz 21 egitim lise\n"
          ]
        }
      ],
      "source": [
        "isim= str(input(\"İsminiz giriniz :\"))\n",
        "yas= int(input(\"yaşınızı giriniz : \"))\n",
        "\n",
        "egitim = str(input(\"eğitim durumunuz nedir?\"))\n",
        "\n",
        "'''\n",
        " uni = True\n",
        " lise= True\n",
        " if yas > 18:\n",
        " print(\"Ehliyet alabilecek yaştasınız.\")\n",
        "else:\n",
        " print(\"Ehliyet almak için yaşınız yeterli değil.\")\n",
        "\n",
        "if egitim == \"üni\":\n",
        "  print(\"Ehliyet alabilirsin \") \n",
        "elif egitim == \"lise\":\n",
        "  print(\"Ehliyet alabilirsin \") \n",
        "else :\n",
        "  print(\"Ehliyet alamazsınız. \") \n",
        "'''\n",
        "\n",
        "if yas> 18 and (egitim == \"uni\" or egitim ==\"lise\"):\n",
        "    print(\"ehliyet alabilirsiniz.\")\n",
        "else:\n",
        "    print(\"ehliyet alamazsınız\")\n",
        "\n",
        "print(\"adınız {} yasiniz {} egitim {}\".format(isim, yas , egitim))\n"
      ]
    },
    {
      "cell_type": "markdown",
      "metadata": {
        "id": "eUkxVSAE_Te_"
      },
      "source": [
        "# Problem 7\n",
        "Bir yılın artık yıl olup olmadığını kontrol etmek için bir program yazın. \n",
        "Artık yıl kuralı:\n",
        "\n",
        "a) Eğer yılın son iki basamağı (00) ile bitmiyor ve yalnızca 4'e tam bölünüyorsa artık yıldır. Ya da, \n",
        "\n",
        "b) Eğer yıl 400'e tam bölünüyorsa artık yıldır.\n",
        "\n",
        "**Örneğin**\n",
        "```\n",
        "2017 artık yıl değildir.\n",
        "1900 artık yıl değildir\n",
        "2012 artık yıldır.\n",
        "2000 artık yıldır.\n",
        "```"
      ]
    },
    {
      "cell_type": "code",
      "execution_count": 23,
      "metadata": {
        "id": "4uWh8qUL_Te_"
      },
      "outputs": [
        {
          "name": "stdout",
          "output_type": "stream",
          "text": [
            "artık yıl değildir\n"
          ]
        }
      ],
      "source": [
        "yil = int(input(\"Yıl girin:\"))\n",
        "\n",
        "\n",
        "if yil%4== 0 and (yil%100 != 0 and yil % 400 == 0):\n",
        "    print(yil, \"Artık yıldır.\")\n",
        "else:\n",
        " print(\"artık yıl değildir\")\n",
        "\n",
        " '''\n",
        "\n",
        "if yil % 4 == 0:\n",
        "  print(\"artık yıldır\")\n",
        "  if yil % 100 == 0:\n",
        "    print(\"artık yıldır\")\n",
        "    if yil % 400 == 0:\n",
        "       print(\"artık yıldır.\")\n",
        "    else:\n",
        "     print(\"artık yıl değildir.\")\n",
        "  else : \n",
        "     print(\"artık yıldır\")\n",
        "else:\n",
        "  print(\"artık yıldır.\")  \n",
        "'''\n"
      ]
    }
  ],
  "metadata": {
    "colab": {
      "provenance": []
    },
    "kernelspec": {
      "display_name": "Python 3.10.5 64-bit",
      "language": "python",
      "name": "python3"
    },
    "language_info": {
      "codemirror_mode": {
        "name": "ipython",
        "version": 3
      },
      "file_extension": ".py",
      "mimetype": "text/x-python",
      "name": "python",
      "nbconvert_exporter": "python",
      "pygments_lexer": "ipython3",
      "version": "3.11.1"
    },
    "orig_nbformat": 4,
    "vscode": {
      "interpreter": {
        "hash": "5026d2d6e7aaaaba093def813beadff083d8733e4a511af01735cbabd156995d"
      }
    }
  },
  "nbformat": 4,
  "nbformat_minor": 0
}
