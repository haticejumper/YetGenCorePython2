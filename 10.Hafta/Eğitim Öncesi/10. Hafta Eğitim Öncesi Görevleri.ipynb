{
 "cells": [
  {
   "attachments": {},
   "cell_type": "markdown",
   "metadata": {},
   "source": [
    "# Problem 1"
   ]
  },
  {
   "cell_type": "code",
   "execution_count": 4,
   "metadata": {},
   "outputs": [
    {
     "name": "stdout",
     "output_type": "stream",
     "text": [
      "Matris boyutu: (5,)\n",
      "Matris boyut sayısı: 2\n"
     ]
    }
   ],
   "source": [
    "# 1 - numpy kütüphanesini import edin\n",
    "import numpy as np\n",
    "\n",
    "# 2 - 0 ile 10 arasında 5 sayıdan oluşan matris üretin\n",
    "matris = np.random.randint(0, 10, (5,))\n",
    "\n",
    "# 3 - matris'in boyutunu öğrenin\n",
    "print(\"Matris boyutu:\", matris.shape)\n",
    "\n",
    "# 4 - matris'i yeniden boyutlandırın\n",
    "matris = matris.reshape((1,5))\n",
    "\n",
    "# 5 - matris'in boyut sayısını öğrenin\n",
    "print(\"Matris boyut sayısı:\", matris.ndim)\n",
    "\n",
    "\n",
    "\n",
    "\n",
    "\n"
   ]
  },
  {
   "cell_type": "code",
   "execution_count": 3,
   "metadata": {},
   "outputs": [
    {
     "name": "stdout",
     "output_type": "stream",
     "text": [
      "Collecting numpy\n",
      "  Downloading numpy-1.24.3-cp311-cp311-win_amd64.whl (14.8 MB)\n",
      "     -------------------------------------- 14.8/14.8 MB 838.0 kB/s eta 0:00:00\n",
      "Installing collected packages: numpy\n",
      "Successfully installed numpy-1.24.3\n",
      "Note: you may need to restart the kernel to use updated packages.\n"
     ]
    },
    {
     "name": "stderr",
     "output_type": "stream",
     "text": [
      "\n",
      "[notice] A new release of pip available: 22.3.1 -> 23.1.2\n",
      "[notice] To update, run: python.exe -m pip install --upgrade pip\n"
     ]
    }
   ],
   "source": [
    "pip install numpy\n"
   ]
  },
  {
   "attachments": {},
   "cell_type": "markdown",
   "metadata": {},
   "source": [
    "# Problem 2"
   ]
  },
  {
   "cell_type": "code",
   "execution_count": 8,
   "metadata": {},
   "outputs": [
    {
     "name": "stdout",
     "output_type": "stream",
     "text": [
      "[[1 3 5 7 9]]\n",
      "Parça 1: [[1 3 5 7 9]]\n",
      "Parça 2: []\n"
     ]
    },
    {
     "ename": "ValueError",
     "evalue": "all the input array dimensions except for the concatenation axis must match exactly, but along dimension 0, the array at index 0 has size 1 and the array at index 1 has size 0",
     "output_type": "error",
     "traceback": [
      "\u001b[1;31m---------------------------------------------------------------------------\u001b[0m",
      "\u001b[1;31mValueError\u001b[0m                                Traceback (most recent call last)",
      "Cell \u001b[1;32mIn[8], line 20\u001b[0m\n\u001b[0;32m     16\u001b[0m \u001b[39mprint\u001b[39m(\u001b[39m\"\u001b[39m\u001b[39mParça 2:\u001b[39m\u001b[39m\"\u001b[39m, parca2)\n\u001b[0;32m     19\u001b[0m \u001b[39m# 3 - Parçalanmış matrisleri birleştirin\u001b[39;00m\n\u001b[1;32m---> 20\u001b[0m birlesik_matris \u001b[39m=\u001b[39m np\u001b[39m.\u001b[39;49mconcatenate((parca1, parca2), axis\u001b[39m=\u001b[39;49m\u001b[39m1\u001b[39;49m)\n\u001b[0;32m     22\u001b[0m \u001b[39mprint\u001b[39m(birlesik_matris)\n",
      "File \u001b[1;32m<__array_function__ internals>:200\u001b[0m, in \u001b[0;36mconcatenate\u001b[1;34m(*args, **kwargs)\u001b[0m\n",
      "\u001b[1;31mValueError\u001b[0m: all the input array dimensions except for the concatenation axis must match exactly, but along dimension 0, the array at index 0 has size 1 and the array at index 1 has size 0"
     ]
    }
   ],
   "source": [
    "import numpy as np\n",
    "\n",
    "# 1 - 0 ile 10 arasında bulunan tek sayılardan oluşan matris üretin\n",
    "\n",
    "tek_sayilar = np.arange(1, 11, 2)\n",
    "\n",
    "matris = np.array([tek_sayilar])\n",
    "\n",
    "print(matris)\n",
    "\n",
    "# 2 - Oluşturduğunuz matrisi parçalayın\n",
    "\n",
    "parca1, parca2 = np.array_split(matris, 2)\n",
    "\n",
    "print(\"Parça 1:\", parca1)\n",
    "print(\"Parça 2:\", parca2)\n",
    "\n",
    "\n",
    "# 3 - Parçalanmış matrisleri birleştirin\n",
    "birlesik_matris = np.concatenate((parca1, parca2), axis=1)\n",
    "\n",
    "print(birlesik_matris)\n",
    "\n"
   ]
  },
  {
   "attachments": {},
   "cell_type": "markdown",
   "metadata": {},
   "source": [
    "# Problem 3"
   ]
  },
  {
   "cell_type": "code",
   "execution_count": 9,
   "metadata": {},
   "outputs": [
    {
     "name": "stdout",
     "output_type": "stream",
     "text": [
      "Oluşturulan matris:\n",
      " [[91 11]\n",
      " [ 9 23]\n",
      " [29 95]\n",
      " [43 67]\n",
      " [77 25]]\n",
      "Boyutu: (5, 2)\n",
      "Eleman sayısı: 10\n",
      "En küçük eleman: 9\n",
      "En büyük eleman: 95\n",
      "Elemanların toplamı: 470\n",
      "Elemanların ortalaması: 47.0\n"
     ]
    }
   ],
   "source": [
    "import numpy as np\n",
    "\n",
    "# 1 - 5 ile 100 arasında ikişer ikişer atlayarak rastgele 10 sayıdan oluşan matris üretin\n",
    "matris = np.random.choice(np.arange(5, 101, 2), size=(5, 2), replace=False)\n",
    "\n",
    "# 2 - matris'in özelliklerini inceleyin\n",
    "boyut = matris.shape\n",
    "eleman_sayisi = matris.size\n",
    "en_kucuk_eleman = matris.min()\n",
    "en_buyuk_eleman = matris.max()\n",
    "elemanlarin_toplami = matris.sum()\n",
    "elemanlarin_ortalamasi = matris.mean()\n",
    "\n",
    "\n",
    "\n",
    "# Sonuçları ekrana yazdırın\n",
    "print(\"Oluşturulan matris:\\n\", matris)\n",
    "print(\"Boyutu:\", boyut)\n",
    "print(\"Eleman sayısı:\", eleman_sayisi)\n",
    "print(\"En küçük eleman:\", en_kucuk_eleman)\n",
    "print(\"En büyük eleman:\", en_buyuk_eleman)\n",
    "print(\"Elemanların toplamı:\", elemanlarin_toplami)\n",
    "print(\"Elemanların ortalaması:\", elemanlarin_ortalamasi)\n"
   ]
  }
 ],
 "metadata": {
  "kernelspec": {
   "display_name": "Python 3",
   "language": "python",
   "name": "python3"
  },
  "language_info": {
   "codemirror_mode": {
    "name": "ipython",
    "version": 3
   },
   "file_extension": ".py",
   "mimetype": "text/x-python",
   "name": "python",
   "nbconvert_exporter": "python",
   "pygments_lexer": "ipython3",
   "version": "3.11.1"
  },
  "orig_nbformat": 4,
  "vscode": {
   "interpreter": {
    "hash": "5026d2d6e7aaaaba093def813beadff083d8733e4a511af01735cbabd156995d"
   }
  }
 },
 "nbformat": 4,
 "nbformat_minor": 2
}
