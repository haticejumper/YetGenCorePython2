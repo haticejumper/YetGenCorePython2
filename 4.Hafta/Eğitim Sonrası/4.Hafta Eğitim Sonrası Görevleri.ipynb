{
 "cells": [
  {
   "cell_type": "markdown",
   "metadata": {},
   "source": [
    "# Problem 1\n",
    "`ogrenciler` adında bir sözlük oluşturunuz. Kullanıcıdan döngü yardımıyla 3 öğrenci için veri girmesini isteyerek öğrencilerin sırasıyla okul numarası, isim, soy isim, telefon numarası ve doğum tarihi bilgilerini alınız. Aldığınız öğrenci bilgilerini yine aynı döngü yardımıyla `ogrenciler` adındaki sözlükte saklayınız. Daha sonra öğrenci bilgilerinin bulunduğu sözlük yapısını ekrana bastırınız.\n",
    "\n"
   ]
  },
  {
   "cell_type": "code",
   "execution_count": 57,
   "metadata": {},
   "outputs": [
    {
     "name": "stdout",
     "output_type": "stream",
     "text": [
      "{3: {'Okul numarası:': '111', 'İsim:': 'aaa', 'Soyisim:': 'sss', 'Telefon numarası :': '222', 'Doğum tarihi :': '333'}}\n"
     ]
    }
   ],
   "source": [
    "ogrenciler = {}\n",
    "for i in range(1,4):\n",
    "    okulNumarasi = input(\"Lütfen okul numaranızı giriniz :\")\n",
    "    isim = input(\"Lütfen isminizi giriniz:\")\n",
    "    soyisim = input(\"Lütfen soyisminizi giriniz:\")\n",
    "    tel= input(\"Lütfen telefon numaranızı giriniz:\")\n",
    "    dogumTarihi = input(\"Lütfen doğum tarihinizi girinz:\")\n",
    "ogrenciler [i]= {\n",
    "    \"Okul numarası:\" : okulNumarasi,\n",
    "    \"İsim:\": isim,\n",
    "    \"Soyisim:\" : soyisim,\n",
    "    \"Telefon numarası :\" : tel,\n",
    "    \"Doğum tarihi :\" : dogumTarihi   \n",
    "     }   \n",
    "print(ogrenciler)\n"
   ]
  },
  {
   "cell_type": "code",
   "execution_count": null,
   "metadata": {},
   "outputs": [],
   "source": []
  },
  {
   "cell_type": "markdown",
   "metadata": {},
   "source": [
    "# Problem 2\n",
    "\n",
    "### a - Biraz ısınarak başlayalım!\n",
    "\n",
    "```\n",
    "numbers = [5,10,10,15,15,15,20,20,20,20]\n",
    "```\n",
    "\n",
    "Yukarıda `numbers` adında 10 elemanlı bir liste verilmiştir. Bu listenin her elemanını kontrol eden ve tekrar eden elemanları bir kez olacak şekilde başka bir listeye kopyalayan bir program yazınız. Son olarak oluşturduğunuz listeyi ekrana bastırınız.\n",
    "\n",
    "\n",
    "\n",
    "\n",
    "```\n",
    ">Output\n",
    "[5, 10, 15, 20]\n",
    "```\n"
   ]
  },
  {
   "cell_type": "code",
   "execution_count": 4,
   "metadata": {},
   "outputs": [
    {
     "name": "stdout",
     "output_type": "stream",
     "text": [
      "[5, 10, 15, 20]\n"
     ]
    }
   ],
   "source": [
    "numbers = [5 ,10,10,15,15,15,20,20,20,20]\n",
    "output = []\n",
    "for i in numbers:\n",
    "    if i in output:\n",
    "        continue\n",
    "    else:\n",
    "        output.append(i)\n",
    "print(output)\n"
   ]
  },
  {
   "cell_type": "markdown",
   "metadata": {},
   "source": [
    "### 🌶️ b) Hadi işi biraz daha zorlaştıralım! \n",
    "\n",
    "\n",
    "Şimdiyse senden `numbers` isimli listedeki tekrar eden elemanları `repeatNumbers` adındaki listeye; tekrar etmeyen elemanları `uniqueNumbers`adındaki listeye kopyalayan yazmanı ve listeleri ekrana bastırmanı bekliyoruz\n",
    "\n",
    "```\n",
    ">Output\n",
    "Tekrar Eden Elemanlar: [10, 10, 15, 15, 15, 20, 20, 20, 20]\n",
    "Tekrar Etmeyen Elemanlar: [5]\n",
    "```"
   ]
  },
  {
   "cell_type": "code",
   "execution_count": 5,
   "metadata": {},
   "outputs": [
    {
     "name": "stdout",
     "output_type": "stream",
     "text": [
      "Tekrar edenler: [10, 10, 15, 15, 15, 20, 20, 20, 20]\n",
      "Tekrar etmeyenler : [5]\n"
     ]
    }
   ],
   "source": [
    "numbers = [5 ,10,10,15,15,15,20,20,20,20]\n",
    "tekrarEden = []\n",
    "tekrarEtmeyen = []\n",
    "\n",
    "for i in numbers:\n",
    "    if numbers.count(i) == 1:\n",
    "        tekrarEtmeyen.append(i)\n",
    "    else:\n",
    "        tekrarEden.append(i)\n",
    "\n",
    "print(\"Tekrar edenler:\",tekrarEden)\n",
    "print(\"Tekrar etmeyenler :\", tekrarEtmeyen)\n"
   ]
  },
  {
   "cell_type": "markdown",
   "metadata": {},
   "source": [
    "# Problem 3\n",
    "sn1 = {1,2,3,4,5}\n",
    "\n",
    "sn2 = {4,5,6,7,8}\n",
    "\n",
    " Verilen 2 adet küme için kesişimlerini, farklarını ve birleşimlerini bulunuz. "
   ]
  },
  {
   "cell_type": "code",
   "execution_count": 10,
   "metadata": {},
   "outputs": [
    {
     "name": "stdout",
     "output_type": "stream",
     "text": [
      "{4, 5}\n",
      "{1, 2, 3} \n",
      " {1, 2, 3}\n"
     ]
    }
   ],
   "source": [
    "sn1 = {1,2,3,4,5}\n",
    "sn2 = {4,5,6,7,8}\n",
    "kesisim = sn1.intersection(sn2)\n",
    "print(kesisim)\n",
    "fark1 = sn1.difference(sn2)\n",
    "fark2 = sn2.difference(sn1)\n",
    "\n",
    "print(fark1,\"\\n\",fark1)"
   ]
  },
  {
   "cell_type": "markdown",
   "metadata": {},
   "source": [
    "# Problem 4\n",
    "\n",
    "Buradaki işlemlerimizin tamamı stringler içindir. Aşağıda verilecek olan metodlar için kendinizin örnek yaratması gerekmektedir. \n",
    "\n",
    "Örneğin `upper` için `string` değişkeni oluştururken` k = \"BAC\"` şeklinde oluşturmayınız. Bunun yerine k değişkenini `k = \"bac`\" şeklinde oluşturmanız `upper` metodundaki değişimi görebilmeniz için daha iyi olacaktır.\n",
    "\n",
    "Bütün metodlardaki değişimin gözle görülür şekilde değişimi beklenmektedir.\n",
    "\n",
    "\n",
    "1- capitalize(), lower(), upper(), swapcase(), title(), replace()\n",
    "\n",
    "2- endswith(), startswith(), find(), index(), count()\n",
    "\n",
    "3- split(), strip(), join(), islower(), isalpha(), isdigit()\n",
    "\n",
    "\n",
    "Yukarıdaki `string` metodlarındaki değişimleri görebildiğimiz bir program yazınız.\n"
   ]
  },
  {
   "cell_type": "code",
   "execution_count": 12,
   "metadata": {},
   "outputs": [
    {
     "data": {
      "text/plain": [
       "'Ben hatice süngü endüstri mühendisliği 3.sınıf öğrencisiyim.'"
      ]
     },
     "execution_count": 12,
     "metadata": {},
     "output_type": "execute_result"
    }
   ],
   "source": [
    "x= \"ben Hatice Süngü Endüstri Mühendisliği 3.sınıf öğrencisiyim.\"\n",
    "x.capitalize()"
   ]
  },
  {
   "cell_type": "code",
   "execution_count": 14,
   "metadata": {},
   "outputs": [
    {
     "data": {
      "text/plain": [
       "'ben hatice süngü endüstri mühendisliği 3.sınıf öğrencisiyim.'"
      ]
     },
     "execution_count": 14,
     "metadata": {},
     "output_type": "execute_result"
    }
   ],
   "source": [
    "x= \"Ben Hatice Süngü Endüstri Mühendisliği 3.sınıf öğrencisiyim.\"\n",
    "x.lower()\n"
   ]
  },
  {
   "cell_type": "code",
   "execution_count": 15,
   "metadata": {},
   "outputs": [
    {
     "data": {
      "text/plain": [
       "'BEN HATICE SÜNGÜ ENDÜSTRI MÜHENDISLIĞI 3.SINIF ÖĞRENCISIYIM.'"
      ]
     },
     "execution_count": 15,
     "metadata": {},
     "output_type": "execute_result"
    }
   ],
   "source": [
    "x= \"Ben Hatice Süngü Endüstri Mühendisliği 3.sınıf öğrencisiyim.\"\n",
    "x.upper()\n"
   ]
  },
  {
   "cell_type": "code",
   "execution_count": 16,
   "metadata": {},
   "outputs": [
    {
     "data": {
      "text/plain": [
       "'bEN hATICE sÜNGÜ eNDÜSTRI mÜHENDISLIĞI 3.SINIF ÖĞRENCISIYIM.'"
      ]
     },
     "execution_count": 16,
     "metadata": {},
     "output_type": "execute_result"
    }
   ],
   "source": [
    "x= \"Ben Hatice Süngü Endüstri Mühendisliği 3.sınıf öğrencisiyim.\"\n",
    "x.swapcase()\n"
   ]
  },
  {
   "cell_type": "code",
   "execution_count": 17,
   "metadata": {},
   "outputs": [
    {
     "data": {
      "text/plain": [
       "'Ben Hatice Süngü Endüstri Mühendisliği 3.Sınıf Öğrencisiyim.'"
      ]
     },
     "execution_count": 17,
     "metadata": {},
     "output_type": "execute_result"
    }
   ],
   "source": [
    "x= \"Ben Hatice Süngü Endüstri Mühendisliği 3.sınıf öğrencisiyim.\"\n",
    "x.title()\n"
   ]
  },
  {
   "cell_type": "code",
   "execution_count": 19,
   "metadata": {},
   "outputs": [
    {
     "data": {
      "text/plain": [
       "'Ben Hatyce Süngü Endüstry Mühendyslyğy 3.sınıf öğrencysyyym.'"
      ]
     },
     "execution_count": 19,
     "metadata": {},
     "output_type": "execute_result"
    }
   ],
   "source": [
    "x= \"Ben Hatice Süngü Endüstri Mühendisliği 3.sınıf öğrencisiyim.\"\n",
    "x.replace(\"i\",\"y\")"
   ]
  },
  {
   "cell_type": "code",
   "execution_count": 27,
   "metadata": {},
   "outputs": [
    {
     "name": "stdout",
     "output_type": "stream",
     "text": [
      "True\n",
      "False\n"
     ]
    },
    {
     "data": {
      "text/plain": [
       "-1"
      ]
     },
     "execution_count": 27,
     "metadata": {},
     "output_type": "execute_result"
    }
   ],
   "source": [
    "isim=(\"Hatice Süngü\")\n",
    "print(isim.endswith(\"gü\"))\n",
    "print(isim.startswith(\"He\"))\n",
    "isim.find(\"hatice\")\n",
    "#isim.index(\"i\")"
   ]
  },
  {
   "cell_type": "code",
   "execution_count": 28,
   "metadata": {},
   "outputs": [
    {
     "data": {
      "text/plain": [
       "2"
      ]
     },
     "execution_count": 28,
     "metadata": {},
     "output_type": "execute_result"
    }
   ],
   "source": [
    "numbers = [5 ,10,10,15,15,15,20,20,20,20]\n",
    "numbers.count(10)"
   ]
  },
  {
   "cell_type": "code",
   "execution_count": 47,
   "metadata": {},
   "outputs": [
    {
     "name": "stdout",
     "output_type": "stream",
     "text": [
      "['Ben', 'Hatice', 'Süngü', 'Endüstri', 'Mühendisliği', '3.sınıf', 'öğrencisiyim.']\n",
      "Ben Hatice Süngü Endüstri Mühendisliği 3.sınıf öğrencisiyim.\n"
     ]
    }
   ],
   "source": [
    "hatice = \"   Ben Hatice Süngü Endüstri Mühendisliği 3.sınıf öğrencisiyim.\"\n",
    "print(hatice.split())\n",
    "print(hatice.strip())\n"
   ]
  },
  {
   "cell_type": "code",
   "execution_count": 49,
   "metadata": {},
   "outputs": [
    {
     "name": "stdout",
     "output_type": "stream",
     "text": [
      "hatice(<3)özgür(<3)erdoğan deniz\n"
     ]
    }
   ],
   "source": [
    "kardeşler =  (\"hatice\", \"özgür\",\"erdoğan deniz\")\n",
    "x = \"(<3)\".join(kardeşler)\n",
    "print(x)"
   ]
  },
  {
   "cell_type": "code",
   "execution_count": 51,
   "metadata": {},
   "outputs": [
    {
     "name": "stdout",
     "output_type": "stream",
     "text": [
      "True\n"
     ]
    },
    {
     "data": {
      "text/plain": [
       "False"
      ]
     },
     "execution_count": 51,
     "metadata": {},
     "output_type": "execute_result"
    }
   ],
   "source": [
    "egitim = (\"python öğreniyorum\")\n",
    "x = egitim.islower()\n",
    "print(x)\n"
   ]
  },
  {
   "cell_type": "code",
   "execution_count": 53,
   "metadata": {},
   "outputs": [
    {
     "data": {
      "text/plain": [
       "True"
      ]
     },
     "execution_count": 53,
     "metadata": {},
     "output_type": "execute_result"
    }
   ],
   "source": [
    "egitim = (\"pythonöğreniyorum\")\n",
    "egitim.isalpha()"
   ]
  },
  {
   "cell_type": "code",
   "execution_count": 56,
   "metadata": {},
   "outputs": [
    {
     "data": {
      "text/plain": [
       "True"
      ]
     },
     "execution_count": 56,
     "metadata": {},
     "output_type": "execute_result"
    }
   ],
   "source": [
    "ogrenciNumarasi = (\"2021011050\")\n",
    "ogrenciNumarasi.isdigit()"
   ]
  }
 ],
 "metadata": {
  "kernelspec": {
   "display_name": "Python 3.10.5 64-bit",
   "language": "python",
   "name": "python3"
  },
  "language_info": {
   "codemirror_mode": {
    "name": "ipython",
    "version": 3
   },
   "file_extension": ".py",
   "mimetype": "text/x-python",
   "name": "python",
   "nbconvert_exporter": "python",
   "pygments_lexer": "ipython3",
   "version": "3.11.1"
  },
  "orig_nbformat": 4,
  "vscode": {
   "interpreter": {
    "hash": "5026d2d6e7aaaaba093def813beadff083d8733e4a511af01735cbabd156995d"
   }
  }
 },
 "nbformat": 4,
 "nbformat_minor": 2
}
